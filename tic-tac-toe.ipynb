{
 "cells": [
  {
   "cell_type": "markdown",
   "id": "b2cc41d3",
   "metadata": {},
   "source": [
    "# Игра Крестики-Нолики"
   ]
  },
  {
   "cell_type": "code",
   "execution_count": 22,
   "id": "c9ec2126",
   "metadata": {},
   "outputs": [
    {
     "data": {
      "text/plain": [
       "'\\n1. Создать список матрицу из 3 столбцов и 3 строк и функцию с оформлением\\n2. Написать функцию заполнения списка необходимыми данными\\n3. Вывести результат, кто победитель.\\n4. Можно усовершенствовать игру добавим модуль random и сделать интерактивную игру против \"бота\" (в следующей версии)\\n'"
      ]
     },
     "execution_count": 22,
     "metadata": {},
     "output_type": "execute_result"
    }
   ],
   "source": [
    "\"\"\"\n",
    "1. Создать список матрицу из 3 столбцов и 3 строк и функцию с оформлением\n",
    "2. Написать функцию заполнения списка необходимыми данными\n",
    "3. Вывести результат, кто победитель.\n",
    "4. Можно усовершенствовать игру добавим модуль random и сделать интерактивную игру против \"бота\" (в следующей версии)\n",
    "\"\"\""
   ]
  },
  {
   "cell_type": "code",
   "execution_count": 25,
   "id": "eb697e73",
   "metadata": {},
   "outputs": [],
   "source": [
    "def list_wrapper (lst:list)-> list:\n",
    "    \"\"\"Обертка для вывода результатов крестики нолики\"\"\"\n",
    "    print ('  0 1 2')\n",
    "    for i in range(3):\n",
    "        print(str(i) + ' ' + ' '.join(lst[i]))\n",
    "        \n",
    "\n",
    "def users_input (f, name_player):\n",
    "    \"\"\"Функция для выбора в какое поле пользователь ставит крестик или нолик\"\"\"    \n",
    "    while True:\n",
    "        progress = input ('Введите 2 числа через пробел!').split()  \n",
    "        if len(progress) != 2:\n",
    "            print (f'Игрок {name_player} -> Вы ввели не 2 числа. Введите 2 числа')\n",
    "            continue\n",
    "        if not (progress[0].isdigit() and progress[1].isdigit()):\n",
    "            print (f'Игрок {name_player} -> Введите 2 числа через пробел!!!')\n",
    "            continue        \n",
    "            \n",
    "        x, y = map(int, progress)\n",
    "        if not(x>=0 and x<3 and y>=0 and y<3):\n",
    "            print(f'Игрок {name_player} -> Вы вышли из диапазона')\n",
    "            continue\n",
    "        if f[x][y]!='-':\n",
    "            print(f'Игрок {name_player} -> Клетка занята')\n",
    "            continue\n",
    "        break\n",
    "    return x, y\n",
    "\n",
    "            \n",
    "def winner (f,user):\n",
    "    \"\"\"Чекинг победителя\"\"\"\n",
    "    \n",
    "    def check_line(a1, a2, a3, user):\n",
    "        if a1 ==user and a2 == user and a3 == user:\n",
    "            return True\n",
    "        return False\n",
    "    for n in range(3):\n",
    "        if check_line(f[n][0], f[n][1], f[n][2], user) or \\\n",
    "            check_line(f[0][n], f[1][n], f[2][n], user) or \\\n",
    "            check_line(f[0][0], f[1][1], f[2][2], user) or \\\n",
    "                     check_line(f[2][0], f[1][1], f[0][2], user):\n",
    "                        return True\n",
    "    return False\n",
    "\n",
    "field_arrays = [['-'] * 3 for _ in range (3)]"
   ]
  },
  {
   "cell_type": "code",
   "execution_count": 26,
   "id": "ff980eac",
   "metadata": {},
   "outputs": [
    {
     "name": "stdout",
     "output_type": "stream",
     "text": [
      "  0 1 2\n",
      "0 - - -\n",
      "1 - - -\n",
      "2 - - -\n",
      "Введите 2 числа через пробел!0 0\n",
      "  0 1 2\n",
      "0 O - -\n",
      "1 - - -\n",
      "2 - - -\n",
      "Введите 2 числа через пробел!1 2\n",
      "  0 1 2\n",
      "0 O - -\n",
      "1 - - X\n",
      "2 - - -\n",
      "Введите 2 числа через пробел!1 0\n",
      "  0 1 2\n",
      "0 O - -\n",
      "1 O - X\n",
      "2 - - -\n",
      "Введите 2 числа через пробел!1 1\n",
      "  0 1 2\n",
      "0 O - -\n",
      "1 O X X\n",
      "2 - - -\n",
      "Введите 2 числа через пробел!2 0\n",
      "++++++++++++++++++++\n",
      "\n",
      " Выиграл игрок O за 4 ходов \n",
      "\n",
      "  0 1 2\n",
      "0 O - -\n",
      "1 O X X\n",
      "2 O - -\n",
      "++++++++++++++++++++\n"
     ]
    }
   ],
   "source": [
    "count=0\n",
    "\n",
    "\n",
    "while True:\n",
    "    \n",
    "    if count%2==1:\n",
    "            \n",
    "            user='X'\n",
    "    else:            \n",
    "            user = 'O'\n",
    "            \n",
    "    list_wrapper(field_arrays)\n",
    "    \n",
    "    if count<9:\n",
    "        x, y = users_input(field_arrays, user)\n",
    "        field_arrays[x][y]=user\n",
    "    if count==9:\n",
    "        print ('Ничья. Вы использовали все ходы')\n",
    "        break\n",
    "    if winner(field_arrays,user):\n",
    "            print ('+'* 20)\n",
    "            print(f\"\\n Выиграл игрок {user} за {count} хода(ов) \\n\")\n",
    "            list_wrapper(field_arrays)\n",
    "            print ('+'* 20)\n",
    "            break\n",
    "    count+=1"
   ]
  },
  {
   "cell_type": "code",
   "execution_count": null,
   "id": "21f99081",
   "metadata": {},
   "outputs": [],
   "source": []
  }
 ],
 "metadata": {
  "kernelspec": {
   "display_name": "Python 3 (ipykernel)",
   "language": "python",
   "name": "python3"
  },
  "language_info": {
   "codemirror_mode": {
    "name": "ipython",
    "version": 3
   },
   "file_extension": ".py",
   "mimetype": "text/x-python",
   "name": "python",
   "nbconvert_exporter": "python",
   "pygments_lexer": "ipython3",
   "version": "3.9.13"
  }
 },
 "nbformat": 4,
 "nbformat_minor": 5
}
